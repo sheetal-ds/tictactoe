{
 "cells": [
  {
   "cell_type": "code",
   "execution_count": 1,
   "id": "f558896c",
   "metadata": {},
   "outputs": [],
   "source": [
    "from IPython.display import clear_output"
   ]
  },
  {
   "cell_type": "markdown",
   "id": "4f3ea7e3",
   "metadata": {},
   "source": [
    "First let us break down tasks and write down functions for all tasks"
   ]
  },
  {
   "cell_type": "markdown",
   "id": "d6132172",
   "metadata": {},
   "source": [
    "Task 1: Set up a board"
   ]
  },
  {
   "cell_type": "code",
   "execution_count": 7,
   "id": "ddc9194a",
   "metadata": {},
   "outputs": [],
   "source": [
    "def display_board(board):\n",
    "    \"\"\"\n",
    "    Given a list of 9 elements, this function \n",
    "    displays it in the form of TicTacToe Grid\n",
    "    \"\"\"\n",
    "    #clear_output()\n",
    "    row1 = board[0:3]\n",
    "    row2 = board[3:6]\n",
    "    row3 = board[6:9]\n",
    "    print(\" \",row1[0],\" |\",\" \",row1[1],\" |\",\" \",row1[2])\n",
    "    print('------------------')\n",
    "    print(\" \",row2[0],\" |\",\" \",row2[1],\" |\",\" \",row2[2])\n",
    "    print('------------------')\n",
    "    print(\" \",row3[0],\" |\",\" \",row3[1],\" |\",\" \",row3[2])"
   ]
  },
  {
   "cell_type": "markdown",
   "id": "e94a0798",
   "metadata": {},
   "source": [
    "Task 2: a. Ask Players to choose a marker from valid markers set (either X or O here)"
   ]
  },
  {
   "cell_type": "code",
   "execution_count": 3,
   "id": "c0165502",
   "metadata": {},
   "outputs": [],
   "source": [
    "def player_1_input():\n",
    "    \"\"\"\n",
    "    This function interactively asks player 1 to choose their marker using input function.\n",
    "    It checks if the chosen marker is a valid marker and returns the marker\n",
    "    \"\"\"\n",
    "    player_1 = input(\"Please select the marker for player 1 (X or O):\")\n",
    "    while player_1 not in valid_markers:\n",
    "        print(\"Enter the correct marker choice(X or O)\")\n",
    "        player_1 = input(\"Please select the marker for player 1 (X or O):\")\n",
    "    return player_1"
   ]
  },
  {
   "cell_type": "code",
   "execution_count": 4,
   "id": "70f96c60",
   "metadata": {},
   "outputs": [],
   "source": [
    "def player_2_input():\n",
    "    \"\"\"\n",
    "    This function interactively asks player 2 to choose their marker using input function.\n",
    "    It checks if the chosen marker is a valid marker. Additionally it also checks if player 2 \n",
    "    chooses a marker different than player 1 and returns the marker\n",
    "    \"\"\"\n",
    "    player_2 = input(\"Please select the marker for player 2 (X or O):\")\n",
    "    while player_2 not in valid_markers or player_2 == player_1_marker:\n",
    "        print(\"Enter the correct marker choice(X or O and the one not selected by player 1)\")\n",
    "        player_2 = input(\"Please select the marker for player 2 (X or O):\")\n",
    "    return player_2"
   ]
  },
  {
   "cell_type": "markdown",
   "id": "5974de0a",
   "metadata": {},
   "source": [
    "Task 3: Place Marker on the board on the chosen position"
   ]
  },
  {
   "cell_type": "code",
   "execution_count": 5,
   "id": "9a984677",
   "metadata": {},
   "outputs": [],
   "source": [
    "def place_marker(board, marker, position):\n",
    "    \"\"\"\n",
    "    This function simply takes the current board, marker (either player 1 or player 2) and\n",
    "    updates it with the position selected by respective player.\n",
    "    It returns the updated board\n",
    "    \"\"\"\n",
    "    board[position]=marker\n",
    "    return board"
   ]
  },
  {
   "cell_type": "markdown",
   "id": "3d617e77",
   "metadata": {},
   "source": [
    "Task 4: Check if any player has won"
   ]
  },
  {
   "cell_type": "code",
   "execution_count": 6,
   "id": "26dced94",
   "metadata": {},
   "outputs": [],
   "source": [
    "def win_check(board, marker):\n",
    "    \"\"\"\n",
    "    There are 8 possible sets of positions that would make a player win, if they place their markers \n",
    "    on all positions in any one of the sets first. These sets are saved in win_position_sets.\n",
    "    This function takes current board and marker (either player 1 or player 2) and checks if the above conditions meet\n",
    "    i.e. the marker is present at all positions in any one of the winning sets. If yes, that means the player has one,\n",
    "    the function returns True, else it returns False\n",
    "    \"\"\"\n",
    "    win_position_sets = [[1,2,3],[4,5,6],[7,8,9],[1,4,7],[2,5,8],[3,6,9],[1,5,9],[3,5,7]]\n",
    "    for i in range(len(win_position_sets)):\n",
    "        if board[win_position_sets[i][0]-1] ==  board[win_position_sets[i][1]-1] and board[win_position_sets[i][1]-1] == board[win_position_sets[i][2]-1] and board[win_position_sets[i][2]-1] == marker:\n",
    "            return True\n",
    "        else:\n",
    "            continue\n",
    "    if i == len(win_position_sets) - 1:\n",
    "        return False"
   ]
  },
  {
   "cell_type": "markdown",
   "id": "a587fa4b",
   "metadata": {},
   "source": [
    "Task 5: Check if the space that player chooses is available on board"
   ]
  },
  {
   "cell_type": "code",
   "execution_count": 8,
   "id": "973cf2a7",
   "metadata": {},
   "outputs": [],
   "source": [
    "def space_check(board, position):\n",
    "    \"\"\"\n",
    "    This function validates if the player has chosen an available space on the board.\n",
    "    It takes current board and chosen position as input and returns true if the chosen position is available,\n",
    "    else it returns False\n",
    "    \"\"\"\n",
    "    if board[position] in valid_markers:\n",
    "        return False\n",
    "    else:\n",
    "        return True"
   ]
  },
  {
   "cell_type": "markdown",
   "id": "0da71931",
   "metadata": {},
   "source": [
    "Task 6: Check if board is full\n",
    "The case where no one has won yet and the board is full. In this case, display the game is over and its a tie.\n",
    "Ask players if they want a rematch"
   ]
  },
  {
   "cell_type": "code",
   "execution_count": 9,
   "id": "846d9cb8",
   "metadata": {},
   "outputs": [],
   "source": [
    "def full_board_check(board):\n",
    "    \"\"\"\n",
    "    This function takes current board as input and checks if the board is full.\n",
    "    Returns True if full, else False\n",
    "    \"\"\"\n",
    "    for i in board:\n",
    "        if i not in valid_markers:\n",
    "            return False\n",
    "    return True"
   ]
  },
  {
   "cell_type": "markdown",
   "id": "2f3687e2",
   "metadata": {},
   "source": [
    "Task 7: asks player's next position (as a number 1-9) and then uses the function from step 6 to check if it's a free position. If it is, then return the position for later use."
   ]
  },
  {
   "cell_type": "code",
   "execution_count": 10,
   "id": "73980955",
   "metadata": {},
   "outputs": [],
   "source": [
    "def player_choice(board,marker):\n",
    "    \"\"\"\n",
    "    This function takes current board and marker as input and asks player to choose a position to place their marker.\n",
    "    It checks if the space is available by calling the space_check function in task 5. If yes, it places the marker at\n",
    "    chosen position and updates the board. Else, it asks the player to input a valid position.\n",
    "    It returns the updated board.\n",
    "    It also validates whether user input is between 1 to 9 digits. In case of any other input, \n",
    "    it asks the user again to input valid choice\n",
    "    \"\"\"\n",
    "    availability = False\n",
    "    \n",
    "    while availability == False:\n",
    "        # This original choice value can be anything that isn't an integer\n",
    "        player_next_choice = 'wrong'\n",
    "\n",
    "        # While the choice is not a digit between 1 to 9, keep asking for input.\n",
    "        while player_next_choice.isdigit() == False or player_next_choice not in ['1','2','3','4','5','6','7','8','9']:\n",
    "\n",
    "            # we shouldn't convert here, otherwise we get an error on a wrong input\n",
    "            player_next_choice = input(\"Please select the position you want to mark with your marker. Choose a number (1-9).\")\n",
    "            \n",
    "            if player_next_choice.isdigit() == False or player_next_choice not in ['1','2','3','4','5','6','7','8','9']:\n",
    "                print(\"Sorry, but you did not enter correct integer. Please try again.\")\n",
    "                display_board(board)\n",
    "        \n",
    "        #Check if the selected choice is available on the board\n",
    "        if space_check(board,int(player_next_choice)-1):\n",
    "            updated_board = place_marker(board,marker,int(player_next_choice)-1)\n",
    "            availability = True\n",
    "            return updated_board\n",
    "        else:\n",
    "            display_board(board)\n",
    "            print(\"This position is already taken. Enter a valid position that is available. Above is the current board:\")"
   ]
  },
  {
   "cell_type": "markdown",
   "id": "e09f968d",
   "metadata": {},
   "source": [
    "Task 8: Ask player if they want a Rematch?"
   ]
  },
  {
   "cell_type": "code",
   "execution_count": 11,
   "id": "43c96d14",
   "metadata": {},
   "outputs": [],
   "source": [
    "def is_rematch():\n",
    "    rematch = input(\"Do you want to play again (Y or N)?\")\n",
    "    while rematch not in ['Y','N','y','n']:\n",
    "        rematch = input(\"Please enter the correct choice either Y or N.\")\n",
    "        \n",
    "    if rematch in ['Y','y']:\n",
    "        return True\n",
    "    else:\n",
    "        return False"
   ]
  },
  {
   "cell_type": "markdown",
   "id": "cb1bb14a",
   "metadata": {},
   "source": [
    "Task 9: Reset the board after match is over and players want a rematch"
   ]
  },
  {
   "cell_type": "code",
   "execution_count": 12,
   "id": "514ef578",
   "metadata": {},
   "outputs": [],
   "source": [
    "def reset_board():\n",
    "    return ['1','2','3','4','5','6','7','8','9']"
   ]
  },
  {
   "cell_type": "markdown",
   "id": "d23add57",
   "metadata": {},
   "source": [
    "## Final Game:\n",
    "Implement all tasks in correct order and Logic."
   ]
  },
  {
   "cell_type": "code",
   "execution_count": 13,
   "id": "f78fed28",
   "metadata": {},
   "outputs": [
    {
     "name": "stdout",
     "output_type": "stream",
     "text": [
      "  1  |   2  |   3\n",
      "------------------\n",
      "  4  |   5  |   6\n",
      "------------------\n",
      "  7  |   8  |   9\n",
      "Please select the marker for player 1 (X or O):O\n",
      "Please select the marker for player 2 (X or O):X\n",
      "**Amazing! You have chosen your markers, lets start the game**\n"
     ]
    }
   ],
   "source": [
    "initial_board = ['1','2','3','4','5','6','7','8','9']\n",
    "display_board(initial_board)\n",
    "valid_markers = ['X','O']\n",
    "player_1_marker = player_1_input()\n",
    "player_2_marker = player_2_input()\n",
    "print(\"**Amazing! You have chosen your markers, lets start the game**\")"
   ]
  },
  {
   "cell_type": "code",
   "execution_count": 14,
   "id": "3f39d018",
   "metadata": {},
   "outputs": [
    {
     "name": "stdout",
     "output_type": "stream",
     "text": [
      "  1  |   2  |   3\n",
      "------------------\n",
      "  4  |   5  |   6\n",
      "------------------\n",
      "  7  |   8  |   9\n",
      "Player 1 turn:\n",
      "Please select the position you want to mark with your marker. Choose a number (1-9).1\n",
      "  O  |   2  |   3\n",
      "------------------\n",
      "  4  |   5  |   6\n",
      "------------------\n",
      "  7  |   8  |   9\n",
      "Player 2 turn:\n",
      "Please select the position you want to mark with your marker. Choose a number (1-9).5\n",
      "  O  |   2  |   3\n",
      "------------------\n",
      "  4  |   X  |   6\n",
      "------------------\n",
      "  7  |   8  |   9\n",
      "Player 1 turn:\n",
      "Please select the position you want to mark with your marker. Choose a number (1-9).5\n",
      "  O  |   2  |   3\n",
      "------------------\n",
      "  4  |   X  |   6\n",
      "------------------\n",
      "  7  |   8  |   9\n",
      "This position is already taken. Enter a valid position that is available. Above is the current board:\n",
      "Please select the position you want to mark with your marker. Choose a number (1-9).3\n",
      "  O  |   2  |   O\n",
      "------------------\n",
      "  4  |   X  |   6\n",
      "------------------\n",
      "  7  |   8  |   9\n",
      "Player 2 turn:\n",
      "Please select the position you want to mark with your marker. Choose a number (1-9).2\n",
      "  O  |   X  |   O\n",
      "------------------\n",
      "  4  |   X  |   6\n",
      "------------------\n",
      "  7  |   8  |   9\n",
      "Player 1 turn:\n",
      "Please select the position you want to mark with your marker. Choose a number (1-9).8\n",
      "  O  |   X  |   O\n",
      "------------------\n",
      "  4  |   X  |   6\n",
      "------------------\n",
      "  7  |   O  |   9\n",
      "Player 2 turn:\n",
      "Please select the position you want to mark with your marker. Choose a number (1-9).4\n",
      "  O  |   X  |   O\n",
      "------------------\n",
      "  X  |   X  |   6\n",
      "------------------\n",
      "  7  |   O  |   9\n",
      "Player 1 turn:\n",
      "Please select the position you want to mark with your marker. Choose a number (1-9).6\n",
      "  O  |   X  |   O\n",
      "------------------\n",
      "  X  |   X  |   O\n",
      "------------------\n",
      "  7  |   O  |   9\n",
      "Player 2 turn:\n",
      "Please select the position you want to mark with your marker. Choose a number (1-9).7\n",
      "  O  |   X  |   O\n",
      "------------------\n",
      "  X  |   X  |   O\n",
      "------------------\n",
      "  X  |   O  |   9\n",
      "Player 1 turn:\n",
      "Please select the position you want to mark with your marker. Choose a number (1-9).9\n",
      "  O  |   X  |   O\n",
      "------------------\n",
      "  X  |   X  |   O\n",
      "------------------\n",
      "  X  |   O  |   O\n",
      "Player 1 has won the game\n",
      "Do you want to play again (Y or N)?Y\n",
      "  1  |   2  |   3\n",
      "------------------\n",
      "  4  |   5  |   6\n",
      "------------------\n",
      "  7  |   8  |   9\n",
      "Player 1 turn:\n",
      "Please select the position you want to mark with your marker. Choose a number (1-9).\n",
      "Sorry, but you did not enter correct integer. Please try again.\n",
      "  1  |   2  |   3\n",
      "------------------\n",
      "  4  |   5  |   6\n",
      "------------------\n",
      "  7  |   8  |   9\n",
      "Please select the position you want to mark with your marker. Choose a number (1-9).1\n",
      "  O  |   2  |   3\n",
      "------------------\n",
      "  4  |   5  |   6\n",
      "------------------\n",
      "  7  |   8  |   9\n",
      "Player 2 turn:\n",
      "Please select the position you want to mark with your marker. Choose a number (1-9).5\n",
      "  O  |   2  |   3\n",
      "------------------\n",
      "  4  |   X  |   6\n",
      "------------------\n",
      "  7  |   8  |   9\n",
      "Player 1 turn:\n",
      "Please select the position you want to mark with your marker. Choose a number (1-9).3\n",
      "  O  |   2  |   O\n",
      "------------------\n",
      "  4  |   X  |   6\n",
      "------------------\n",
      "  7  |   8  |   9\n",
      "Player 2 turn:\n",
      "Please select the position you want to mark with your marker. Choose a number (1-9).2\n",
      "  O  |   X  |   O\n",
      "------------------\n",
      "  4  |   X  |   6\n",
      "------------------\n",
      "  7  |   8  |   9\n",
      "Player 1 turn:\n",
      "Please select the position you want to mark with your marker. Choose a number (1-9).8\n",
      "  O  |   X  |   O\n",
      "------------------\n",
      "  4  |   X  |   6\n",
      "------------------\n",
      "  7  |   O  |   9\n",
      "Player 2 turn:\n",
      "Please select the position you want to mark with your marker. Choose a number (1-9).4\n",
      "  O  |   X  |   O\n",
      "------------------\n",
      "  X  |   X  |   6\n",
      "------------------\n",
      "  7  |   O  |   9\n",
      "Player 1 turn:\n",
      "Please select the position you want to mark with your marker. Choose a number (1-9).6\n",
      "  O  |   X  |   O\n",
      "------------------\n",
      "  X  |   X  |   O\n",
      "------------------\n",
      "  7  |   O  |   9\n",
      "Player 2 turn:\n",
      "Please select the position you want to mark with your marker. Choose a number (1-9).9\n",
      "  O  |   X  |   O\n",
      "------------------\n",
      "  X  |   X  |   O\n",
      "------------------\n",
      "  7  |   O  |   X\n",
      "Player 1 turn:\n",
      "Please select the position you want to mark with your marker. Choose a number (1-9).7\n",
      "  O  |   X  |   O\n",
      "------------------\n",
      "  X  |   X  |   O\n",
      "------------------\n",
      "  O  |   O  |   X\n",
      "Game over. Its a Tie\n",
      "Do you want to play again (Y or N)?N\n"
     ]
    }
   ],
   "source": [
    "rematch = True\n",
    "\n",
    "#while player wants to play\n",
    "while rematch == True:\n",
    "    board = reset_board()\n",
    "    display_board(board)\n",
    "    is_winner = False\n",
    "    full_board = full_board_check(board)\n",
    "    #while the game is on\n",
    "    while is_winner == False and full_board == False:\n",
    "        #Player1 turn:\n",
    "        print(\"Player 1 turn:\")\n",
    "        board = player_choice(board,player_1_marker)\n",
    "        display_board(board)\n",
    "        is_winner = win_check(board, player_1_marker)\n",
    "        full_board = full_board_check(board)\n",
    "        if is_winner:\n",
    "            print(\"Player 1 has won the game\")\n",
    "            break\n",
    "        if full_board:\n",
    "            print(\"Game over. Its a Tie\")\n",
    "            break\n",
    "        \n",
    "\n",
    "        #Player2 turn:\n",
    "        print(\"Player 2 turn:\")\n",
    "        board = player_choice(board,player_2_marker)\n",
    "        display_board(board)\n",
    "        is_winner = win_check(board, player_2_marker)\n",
    "        full_board = full_board_check(board)\n",
    "        if is_winner:\n",
    "            print(\"Player 2 has won the game\")\n",
    "            break\n",
    "        if full_board:\n",
    "            print(\"Game over. Its a Tie\")\n",
    "            break\n",
    "            \n",
    "    rematch = is_rematch()"
   ]
  },
  {
   "cell_type": "code",
   "execution_count": null,
   "id": "923d3ea6",
   "metadata": {},
   "outputs": [],
   "source": []
  },
  {
   "cell_type": "markdown",
   "id": "1da8be84",
   "metadata": {},
   "source": [
    " "
   ]
  }
 ],
 "metadata": {
  "kernelspec": {
   "display_name": "Python 3 (ipykernel)",
   "language": "python",
   "name": "python3"
  },
  "language_info": {
   "codemirror_mode": {
    "name": "ipython",
    "version": 3
   },
   "file_extension": ".py",
   "mimetype": "text/x-python",
   "name": "python",
   "nbconvert_exporter": "python",
   "pygments_lexer": "ipython3",
   "version": "3.9.7"
  }
 },
 "nbformat": 4,
 "nbformat_minor": 5
}
